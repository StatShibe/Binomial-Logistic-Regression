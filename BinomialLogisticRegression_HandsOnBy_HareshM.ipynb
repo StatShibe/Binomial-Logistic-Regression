{
 "cells": [
  {
   "cell_type": "code",
   "execution_count": 1,
   "id": "838a8f12",
   "metadata": {},
   "outputs": [],
   "source": [
    "import pandas as pd\n",
    "import numpy as np\n",
    "from sklearn import preprocessing\n",
    "import matplotlib.pyplot as plt \n",
    "#plt.rc(\"font\", size=14)\n",
    "from sklearn.linear_model import LogisticRegression\n",
    "import seaborn as sns\n",
    "%matplotlib inline"
   ]
  },
  {
   "cell_type": "code",
   "execution_count": 2,
   "id": "051f54a8",
   "metadata": {},
   "outputs": [],
   "source": [
    "#Import data\n",
    "data=pd.read_csv('diabetes.csv')"
   ]
  },
  {
   "cell_type": "code",
   "execution_count": 3,
   "id": "e2492428",
   "metadata": {},
   "outputs": [
    {
     "data": {
      "text/plain": [
       "Index(['Pregnancies', 'Glucose', 'BloodPressure', 'SkinThickness', 'Insulin',\n",
       "       'BMI', 'DiabetesPedigreeFunction', 'Age', 'Outcome'],\n",
       "      dtype='object')"
      ]
     },
     "execution_count": 3,
     "metadata": {},
     "output_type": "execute_result"
    }
   ],
   "source": [
    "data.columns"
   ]
  },
  {
   "cell_type": "code",
   "execution_count": 4,
   "id": "76133bd1",
   "metadata": {},
   "outputs": [
    {
     "data": {
      "text/plain": [
       "(768, 9)"
      ]
     },
     "execution_count": 4,
     "metadata": {},
     "output_type": "execute_result"
    }
   ],
   "source": [
    "data.shape"
   ]
  },
  {
   "cell_type": "code",
   "execution_count": 5,
   "id": "da600aef",
   "metadata": {},
   "outputs": [
    {
     "data": {
      "text/html": [
       "<div>\n",
       "<style scoped>\n",
       "    .dataframe tbody tr th:only-of-type {\n",
       "        vertical-align: middle;\n",
       "    }\n",
       "\n",
       "    .dataframe tbody tr th {\n",
       "        vertical-align: top;\n",
       "    }\n",
       "\n",
       "    .dataframe thead th {\n",
       "        text-align: right;\n",
       "    }\n",
       "</style>\n",
       "<table border=\"1\" class=\"dataframe\">\n",
       "  <thead>\n",
       "    <tr style=\"text-align: right;\">\n",
       "      <th></th>\n",
       "      <th>Pregnancies</th>\n",
       "      <th>Glucose</th>\n",
       "      <th>BloodPressure</th>\n",
       "      <th>SkinThickness</th>\n",
       "      <th>Insulin</th>\n",
       "      <th>BMI</th>\n",
       "      <th>DiabetesPedigreeFunction</th>\n",
       "      <th>Age</th>\n",
       "      <th>Outcome</th>\n",
       "    </tr>\n",
       "  </thead>\n",
       "  <tbody>\n",
       "    <tr>\n",
       "      <th>count</th>\n",
       "      <td>768.000000</td>\n",
       "      <td>768.000000</td>\n",
       "      <td>768.000000</td>\n",
       "      <td>768.000000</td>\n",
       "      <td>768.000000</td>\n",
       "      <td>768.000000</td>\n",
       "      <td>768.000000</td>\n",
       "      <td>768.000000</td>\n",
       "      <td>768.000000</td>\n",
       "    </tr>\n",
       "    <tr>\n",
       "      <th>mean</th>\n",
       "      <td>3.845052</td>\n",
       "      <td>120.894531</td>\n",
       "      <td>69.105469</td>\n",
       "      <td>20.536458</td>\n",
       "      <td>79.799479</td>\n",
       "      <td>31.992578</td>\n",
       "      <td>0.471876</td>\n",
       "      <td>33.240885</td>\n",
       "      <td>0.348958</td>\n",
       "    </tr>\n",
       "    <tr>\n",
       "      <th>std</th>\n",
       "      <td>3.369578</td>\n",
       "      <td>31.972618</td>\n",
       "      <td>19.355807</td>\n",
       "      <td>15.952218</td>\n",
       "      <td>115.244002</td>\n",
       "      <td>7.884160</td>\n",
       "      <td>0.331329</td>\n",
       "      <td>11.760232</td>\n",
       "      <td>0.476951</td>\n",
       "    </tr>\n",
       "    <tr>\n",
       "      <th>min</th>\n",
       "      <td>0.000000</td>\n",
       "      <td>0.000000</td>\n",
       "      <td>0.000000</td>\n",
       "      <td>0.000000</td>\n",
       "      <td>0.000000</td>\n",
       "      <td>0.000000</td>\n",
       "      <td>0.078000</td>\n",
       "      <td>21.000000</td>\n",
       "      <td>0.000000</td>\n",
       "    </tr>\n",
       "    <tr>\n",
       "      <th>25%</th>\n",
       "      <td>1.000000</td>\n",
       "      <td>99.000000</td>\n",
       "      <td>62.000000</td>\n",
       "      <td>0.000000</td>\n",
       "      <td>0.000000</td>\n",
       "      <td>27.300000</td>\n",
       "      <td>0.243750</td>\n",
       "      <td>24.000000</td>\n",
       "      <td>0.000000</td>\n",
       "    </tr>\n",
       "    <tr>\n",
       "      <th>50%</th>\n",
       "      <td>3.000000</td>\n",
       "      <td>117.000000</td>\n",
       "      <td>72.000000</td>\n",
       "      <td>23.000000</td>\n",
       "      <td>30.500000</td>\n",
       "      <td>32.000000</td>\n",
       "      <td>0.372500</td>\n",
       "      <td>29.000000</td>\n",
       "      <td>0.000000</td>\n",
       "    </tr>\n",
       "    <tr>\n",
       "      <th>75%</th>\n",
       "      <td>6.000000</td>\n",
       "      <td>140.250000</td>\n",
       "      <td>80.000000</td>\n",
       "      <td>32.000000</td>\n",
       "      <td>127.250000</td>\n",
       "      <td>36.600000</td>\n",
       "      <td>0.626250</td>\n",
       "      <td>41.000000</td>\n",
       "      <td>1.000000</td>\n",
       "    </tr>\n",
       "    <tr>\n",
       "      <th>max</th>\n",
       "      <td>17.000000</td>\n",
       "      <td>199.000000</td>\n",
       "      <td>122.000000</td>\n",
       "      <td>99.000000</td>\n",
       "      <td>846.000000</td>\n",
       "      <td>67.100000</td>\n",
       "      <td>2.420000</td>\n",
       "      <td>81.000000</td>\n",
       "      <td>1.000000</td>\n",
       "    </tr>\n",
       "  </tbody>\n",
       "</table>\n",
       "</div>"
      ],
      "text/plain": [
       "       Pregnancies     Glucose  BloodPressure  SkinThickness     Insulin  \\\n",
       "count   768.000000  768.000000     768.000000     768.000000  768.000000   \n",
       "mean      3.845052  120.894531      69.105469      20.536458   79.799479   \n",
       "std       3.369578   31.972618      19.355807      15.952218  115.244002   \n",
       "min       0.000000    0.000000       0.000000       0.000000    0.000000   \n",
       "25%       1.000000   99.000000      62.000000       0.000000    0.000000   \n",
       "50%       3.000000  117.000000      72.000000      23.000000   30.500000   \n",
       "75%       6.000000  140.250000      80.000000      32.000000  127.250000   \n",
       "max      17.000000  199.000000     122.000000      99.000000  846.000000   \n",
       "\n",
       "              BMI  DiabetesPedigreeFunction         Age     Outcome  \n",
       "count  768.000000                768.000000  768.000000  768.000000  \n",
       "mean    31.992578                  0.471876   33.240885    0.348958  \n",
       "std      7.884160                  0.331329   11.760232    0.476951  \n",
       "min      0.000000                  0.078000   21.000000    0.000000  \n",
       "25%     27.300000                  0.243750   24.000000    0.000000  \n",
       "50%     32.000000                  0.372500   29.000000    0.000000  \n",
       "75%     36.600000                  0.626250   41.000000    1.000000  \n",
       "max     67.100000                  2.420000   81.000000    1.000000  "
      ]
     },
     "execution_count": 5,
     "metadata": {},
     "output_type": "execute_result"
    }
   ],
   "source": [
    "data.describe(include='all')"
   ]
  },
  {
   "cell_type": "code",
   "execution_count": 6,
   "id": "902a3617",
   "metadata": {},
   "outputs": [
    {
     "data": {
      "text/html": [
       "<div>\n",
       "<style scoped>\n",
       "    .dataframe tbody tr th:only-of-type {\n",
       "        vertical-align: middle;\n",
       "    }\n",
       "\n",
       "    .dataframe tbody tr th {\n",
       "        vertical-align: top;\n",
       "    }\n",
       "\n",
       "    .dataframe thead th {\n",
       "        text-align: right;\n",
       "    }\n",
       "</style>\n",
       "<table border=\"1\" class=\"dataframe\">\n",
       "  <thead>\n",
       "    <tr style=\"text-align: right;\">\n",
       "      <th></th>\n",
       "      <th>Pregnancies</th>\n",
       "      <th>Glucose</th>\n",
       "      <th>BloodPressure</th>\n",
       "      <th>SkinThickness</th>\n",
       "      <th>Insulin</th>\n",
       "      <th>BMI</th>\n",
       "      <th>DiabetesPedigreeFunction</th>\n",
       "      <th>Age</th>\n",
       "      <th>Outcome</th>\n",
       "    </tr>\n",
       "  </thead>\n",
       "  <tbody>\n",
       "    <tr>\n",
       "      <th>Pregnancies</th>\n",
       "      <td>1.000000</td>\n",
       "      <td>0.130734</td>\n",
       "      <td>0.185127</td>\n",
       "      <td>-0.085222</td>\n",
       "      <td>-0.126723</td>\n",
       "      <td>0.000132</td>\n",
       "      <td>-0.043242</td>\n",
       "      <td>0.607216</td>\n",
       "      <td>0.198689</td>\n",
       "    </tr>\n",
       "    <tr>\n",
       "      <th>Glucose</th>\n",
       "      <td>0.130734</td>\n",
       "      <td>1.000000</td>\n",
       "      <td>0.235191</td>\n",
       "      <td>0.060022</td>\n",
       "      <td>0.213206</td>\n",
       "      <td>0.231141</td>\n",
       "      <td>0.091293</td>\n",
       "      <td>0.285045</td>\n",
       "      <td>0.475776</td>\n",
       "    </tr>\n",
       "    <tr>\n",
       "      <th>BloodPressure</th>\n",
       "      <td>0.185127</td>\n",
       "      <td>0.235191</td>\n",
       "      <td>1.000000</td>\n",
       "      <td>0.126486</td>\n",
       "      <td>-0.006771</td>\n",
       "      <td>0.292870</td>\n",
       "      <td>0.030046</td>\n",
       "      <td>0.350895</td>\n",
       "      <td>0.142921</td>\n",
       "    </tr>\n",
       "    <tr>\n",
       "      <th>SkinThickness</th>\n",
       "      <td>-0.085222</td>\n",
       "      <td>0.060022</td>\n",
       "      <td>0.126486</td>\n",
       "      <td>1.000000</td>\n",
       "      <td>0.541000</td>\n",
       "      <td>0.443615</td>\n",
       "      <td>0.180390</td>\n",
       "      <td>-0.066795</td>\n",
       "      <td>0.089728</td>\n",
       "    </tr>\n",
       "    <tr>\n",
       "      <th>Insulin</th>\n",
       "      <td>-0.126723</td>\n",
       "      <td>0.213206</td>\n",
       "      <td>-0.006771</td>\n",
       "      <td>0.541000</td>\n",
       "      <td>1.000000</td>\n",
       "      <td>0.192726</td>\n",
       "      <td>0.221150</td>\n",
       "      <td>-0.114213</td>\n",
       "      <td>0.066472</td>\n",
       "    </tr>\n",
       "    <tr>\n",
       "      <th>BMI</th>\n",
       "      <td>0.000132</td>\n",
       "      <td>0.231141</td>\n",
       "      <td>0.292870</td>\n",
       "      <td>0.443615</td>\n",
       "      <td>0.192726</td>\n",
       "      <td>1.000000</td>\n",
       "      <td>0.141192</td>\n",
       "      <td>0.131186</td>\n",
       "      <td>0.309707</td>\n",
       "    </tr>\n",
       "    <tr>\n",
       "      <th>DiabetesPedigreeFunction</th>\n",
       "      <td>-0.043242</td>\n",
       "      <td>0.091293</td>\n",
       "      <td>0.030046</td>\n",
       "      <td>0.180390</td>\n",
       "      <td>0.221150</td>\n",
       "      <td>0.141192</td>\n",
       "      <td>1.000000</td>\n",
       "      <td>0.042909</td>\n",
       "      <td>0.175353</td>\n",
       "    </tr>\n",
       "    <tr>\n",
       "      <th>Age</th>\n",
       "      <td>0.607216</td>\n",
       "      <td>0.285045</td>\n",
       "      <td>0.350895</td>\n",
       "      <td>-0.066795</td>\n",
       "      <td>-0.114213</td>\n",
       "      <td>0.131186</td>\n",
       "      <td>0.042909</td>\n",
       "      <td>1.000000</td>\n",
       "      <td>0.309040</td>\n",
       "    </tr>\n",
       "    <tr>\n",
       "      <th>Outcome</th>\n",
       "      <td>0.198689</td>\n",
       "      <td>0.475776</td>\n",
       "      <td>0.142921</td>\n",
       "      <td>0.089728</td>\n",
       "      <td>0.066472</td>\n",
       "      <td>0.309707</td>\n",
       "      <td>0.175353</td>\n",
       "      <td>0.309040</td>\n",
       "      <td>1.000000</td>\n",
       "    </tr>\n",
       "  </tbody>\n",
       "</table>\n",
       "</div>"
      ],
      "text/plain": [
       "                          Pregnancies   Glucose  BloodPressure  SkinThickness  \\\n",
       "Pregnancies                  1.000000  0.130734       0.185127      -0.085222   \n",
       "Glucose                      0.130734  1.000000       0.235191       0.060022   \n",
       "BloodPressure                0.185127  0.235191       1.000000       0.126486   \n",
       "SkinThickness               -0.085222  0.060022       0.126486       1.000000   \n",
       "Insulin                     -0.126723  0.213206      -0.006771       0.541000   \n",
       "BMI                          0.000132  0.231141       0.292870       0.443615   \n",
       "DiabetesPedigreeFunction    -0.043242  0.091293       0.030046       0.180390   \n",
       "Age                          0.607216  0.285045       0.350895      -0.066795   \n",
       "Outcome                      0.198689  0.475776       0.142921       0.089728   \n",
       "\n",
       "                           Insulin       BMI  DiabetesPedigreeFunction  \\\n",
       "Pregnancies              -0.126723  0.000132                 -0.043242   \n",
       "Glucose                   0.213206  0.231141                  0.091293   \n",
       "BloodPressure            -0.006771  0.292870                  0.030046   \n",
       "SkinThickness             0.541000  0.443615                  0.180390   \n",
       "Insulin                   1.000000  0.192726                  0.221150   \n",
       "BMI                       0.192726  1.000000                  0.141192   \n",
       "DiabetesPedigreeFunction  0.221150  0.141192                  1.000000   \n",
       "Age                      -0.114213  0.131186                  0.042909   \n",
       "Outcome                   0.066472  0.309707                  0.175353   \n",
       "\n",
       "                               Age   Outcome  \n",
       "Pregnancies               0.607216  0.198689  \n",
       "Glucose                   0.285045  0.475776  \n",
       "BloodPressure             0.350895  0.142921  \n",
       "SkinThickness            -0.066795  0.089728  \n",
       "Insulin                  -0.114213  0.066472  \n",
       "BMI                       0.131186  0.309707  \n",
       "DiabetesPedigreeFunction  0.042909  0.175353  \n",
       "Age                       1.000000  0.309040  \n",
       "Outcome                   0.309040  1.000000  "
      ]
     },
     "execution_count": 6,
     "metadata": {},
     "output_type": "execute_result"
    }
   ],
   "source": [
    "data.corr(method='spearman')"
   ]
  },
  {
   "cell_type": "code",
   "execution_count": 7,
   "id": "7d020925",
   "metadata": {},
   "outputs": [],
   "source": [
    "feature_cols = ['Glucose','BMI','Age','Pregnancies','DiabetesPedigreeFunction','BloodPressure','SkinThickness','Insulin']\n",
    "X = data[feature_cols] # Features\n",
    "y = data.Outcome # Target variable"
   ]
  },
  {
   "cell_type": "code",
   "execution_count": 8,
   "id": "58fea937",
   "metadata": {},
   "outputs": [],
   "source": [
    "# split X and y into training and testing sets\n",
    "from sklearn.model_selection import train_test_split\n",
    "X_train,X_test,y_train,y_test=train_test_split(X,y,test_size=0.25,random_state=30)"
   ]
  },
  {
   "cell_type": "code",
   "execution_count": 9,
   "id": "e21425f0",
   "metadata": {},
   "outputs": [],
   "source": [
    "# import the class\n",
    "from sklearn.linear_model import LogisticRegression\n",
    "\n",
    "# instantiate the model (using the default parameters)\n",
    "model = LogisticRegression(max_iter=500)"
   ]
  },
  {
   "cell_type": "code",
   "execution_count": 10,
   "id": "524ddb3f",
   "metadata": {},
   "outputs": [
    {
     "data": {
      "text/plain": [
       "LogisticRegression(max_iter=500)"
      ]
     },
     "execution_count": 10,
     "metadata": {},
     "output_type": "execute_result"
    }
   ],
   "source": [
    "model"
   ]
  },
  {
   "cell_type": "code",
   "execution_count": 11,
   "id": "ed2af6d7",
   "metadata": {},
   "outputs": [],
   "source": [
    "from sklearn.model_selection import cross_val_score  \n",
    "all_accuracies = cross_val_score(estimator=model, X=X_train, y=y_train, cv=5)"
   ]
  },
  {
   "cell_type": "code",
   "execution_count": 12,
   "id": "ec3f063f",
   "metadata": {},
   "outputs": [
    {
     "data": {
      "text/plain": [
       "array([0.77586207, 0.75652174, 0.7826087 , 0.73913043, 0.76521739])"
      ]
     },
     "execution_count": 12,
     "metadata": {},
     "output_type": "execute_result"
    }
   ],
   "source": [
    "all_accuracies"
   ]
  },
  {
   "cell_type": "code",
   "execution_count": 13,
   "id": "47c3d3da",
   "metadata": {},
   "outputs": [
    {
     "data": {
      "text/plain": [
       "LogisticRegression(max_iter=500)"
      ]
     },
     "execution_count": 13,
     "metadata": {},
     "output_type": "execute_result"
    }
   ],
   "source": [
    "# import the class\n",
    "from sklearn.linear_model import LogisticRegression\n",
    "\n",
    "# instantiate the model (using the default parameters)\n",
    "#model = LogisticRegression()\n",
    "\n",
    "# fit the model with data\n",
    "model.fit(X_train,y_train)\n",
    "\n",
    "#Prediction\n",
    "#y_pred=model.predict(X_test)"
   ]
  },
  {
   "cell_type": "code",
   "execution_count": 14,
   "id": "299aaccf",
   "metadata": {},
   "outputs": [
    {
     "data": {
      "text/plain": [
       "array([0, 0, 0, 1, 0, 0, 1, 0, 0, 0, 0, 0, 0, 0, 0, 0, 0, 0, 1, 0, 1, 1,\n",
       "       1, 0, 1, 1, 0, 0, 0, 0, 0, 0, 1, 1, 0, 0, 0, 1, 1, 0, 0, 1, 0, 1,\n",
       "       1, 1, 1, 1, 0, 0, 0, 0, 0, 1, 0, 1, 1, 0, 0, 0, 0, 0, 1, 0, 0, 0,\n",
       "       1, 1, 1, 0, 0, 1, 0, 1, 0, 1, 0, 1, 1, 0, 0, 0, 0, 1, 0, 1, 0, 0,\n",
       "       0, 0, 0, 0, 0, 0, 1, 0, 0, 0, 1, 1, 0, 0, 1, 1, 1, 0, 0, 0, 0, 0,\n",
       "       1, 1, 0, 1, 0, 0, 1, 1, 0, 1, 0, 1, 0, 0, 1, 0, 0, 0, 0, 0, 0, 1,\n",
       "       0, 1, 1, 0, 1, 0, 0, 0, 1, 0, 0, 0, 0, 0, 1, 0, 0, 1, 0, 0, 1, 0,\n",
       "       0, 0, 1, 1, 0, 0, 0, 0, 0, 0, 1, 0, 0, 0, 0, 0, 1, 0, 1, 1, 0, 0,\n",
       "       0, 1, 1, 1, 1, 0, 0, 0, 1, 0, 0, 0, 0, 0, 0, 1])"
      ]
     },
     "execution_count": 14,
     "metadata": {},
     "output_type": "execute_result"
    }
   ],
   "source": [
    "#model.predict(X_test)  # default threshold is 0.5\n",
    "#If you want to change to 0.3\n",
    "y_pred=(model.predict_proba(X_test)[:,1] >= 0.4)*1\n",
    "y_pred"
   ]
  },
  {
   "cell_type": "code",
   "execution_count": 15,
   "id": "32fadbfa",
   "metadata": {},
   "outputs": [
    {
     "data": {
      "text/plain": [
       "0.7464019851116626"
      ]
     },
     "execution_count": 15,
     "metadata": {},
     "output_type": "execute_result"
    }
   ],
   "source": [
    "from sklearn import metrics\n",
    "metrics.roc_auc_score(y_test, y_pred)"
   ]
  },
  {
   "cell_type": "code",
   "execution_count": 16,
   "id": "2656cc39",
   "metadata": {},
   "outputs": [
    {
     "name": "stdout",
     "output_type": "stream",
     "text": [
      "Accuracy: 0.7708333333333334\n",
      "Precision: 0.6363636363636364\n",
      "Recall: 0.6774193548387096\n"
     ]
    }
   ],
   "source": [
    "print(\"Accuracy:\",metrics.accuracy_score(y_test, y_pred))\n",
    "print(\"Precision:\",metrics.precision_score(y_test, y_pred))\n",
    "print(\"Recall:\",metrics.recall_score(y_test, y_pred))"
   ]
  },
  {
   "cell_type": "code",
   "execution_count": 17,
   "id": "e6905c57",
   "metadata": {},
   "outputs": [
    {
     "name": "stdout",
     "output_type": "stream",
     "text": [
      "              precision    recall  f1-score   support\n",
      "\n",
      "           0       0.84      0.82      0.83       130\n",
      "           1       0.64      0.68      0.66        62\n",
      "\n",
      "    accuracy                           0.77       192\n",
      "   macro avg       0.74      0.75      0.74       192\n",
      "weighted avg       0.78      0.77      0.77       192\n",
      "\n"
     ]
    }
   ],
   "source": [
    "from sklearn.metrics import classification_report\n",
    "print(classification_report(y_test, y_pred))"
   ]
  },
  {
   "cell_type": "code",
   "execution_count": 19,
   "id": "62081298",
   "metadata": {},
   "outputs": [],
   "source": [
    "loss=model.predict_proba(X_test)"
   ]
  },
  {
   "cell_type": "code",
   "execution_count": 20,
   "id": "198c3575",
   "metadata": {},
   "outputs": [
    {
     "data": {
      "text/plain": [
       "array([[0.87895868, 0.12104132],\n",
       "       [0.85823865, 0.14176135],\n",
       "       [0.85919399, 0.14080601],\n",
       "       [0.37750873, 0.62249127],\n",
       "       [0.83402917, 0.16597083],\n",
       "       [0.95055431, 0.04944569],\n",
       "       [0.27107424, 0.72892576],\n",
       "       [0.75161562, 0.24838438],\n",
       "       [0.65386225, 0.34613775],\n",
       "       [0.95448749, 0.04551251],\n",
       "       [0.90030021, 0.09969979],\n",
       "       [0.81626829, 0.18373171],\n",
       "       [0.87237575, 0.12762425],\n",
       "       [0.80126346, 0.19873654],\n",
       "       [0.92062003, 0.07937997],\n",
       "       [0.92152848, 0.07847152],\n",
       "       [0.79367405, 0.20632595],\n",
       "       [0.80028161, 0.19971839],\n",
       "       [0.18727743, 0.81272257],\n",
       "       [0.85829283, 0.14170717],\n",
       "       [0.57473318, 0.42526682],\n",
       "       [0.11684733, 0.88315267],\n",
       "       [0.51002064, 0.48997936],\n",
       "       [0.64751255, 0.35248745],\n",
       "       [0.03583846, 0.96416154],\n",
       "       [0.55987038, 0.44012962],\n",
       "       [0.90811765, 0.09188235],\n",
       "       [0.95331711, 0.04668289],\n",
       "       [0.95860295, 0.04139705],\n",
       "       [0.64305647, 0.35694353],\n",
       "       [0.84012657, 0.15987343],\n",
       "       [0.64245052, 0.35754948],\n",
       "       [0.50780585, 0.49219415],\n",
       "       [0.30402955, 0.69597045],\n",
       "       [0.97896143, 0.02103857],\n",
       "       [0.86491247, 0.13508753],\n",
       "       [0.77802064, 0.22197936],\n",
       "       [0.21122488, 0.78877512],\n",
       "       [0.21140153, 0.78859847],\n",
       "       [0.89511154, 0.10488846],\n",
       "       [0.87939319, 0.12060681],\n",
       "       [0.37771257, 0.62228743],\n",
       "       [0.91655795, 0.08344205],\n",
       "       [0.59523708, 0.40476292],\n",
       "       [0.33025406, 0.66974594],\n",
       "       [0.16464325, 0.83535675],\n",
       "       [0.32336009, 0.67663991],\n",
       "       [0.2342861 , 0.7657139 ],\n",
       "       [0.95063093, 0.04936907],\n",
       "       [0.96157108, 0.03842892],\n",
       "       [0.96068851, 0.03931149],\n",
       "       [0.70788424, 0.29211576],\n",
       "       [0.70627644, 0.29372356],\n",
       "       [0.20100161, 0.79899839],\n",
       "       [0.64912992, 0.35087008],\n",
       "       [0.44817067, 0.55182933],\n",
       "       [0.45754758, 0.54245242],\n",
       "       [0.83177029, 0.16822971],\n",
       "       [0.87101134, 0.12898866],\n",
       "       [0.95562001, 0.04437999],\n",
       "       [0.85392026, 0.14607974],\n",
       "       [0.92911991, 0.07088009],\n",
       "       [0.28669663, 0.71330337],\n",
       "       [0.69476175, 0.30523825],\n",
       "       [0.72050738, 0.27949262],\n",
       "       [0.7970898 , 0.2029102 ],\n",
       "       [0.11190068, 0.88809932],\n",
       "       [0.17604589, 0.82395411],\n",
       "       [0.48992403, 0.51007597],\n",
       "       [0.94732889, 0.05267111],\n",
       "       [0.63414086, 0.36585914],\n",
       "       [0.24246957, 0.75753043],\n",
       "       [0.77418069, 0.22581931],\n",
       "       [0.5506363 , 0.4493637 ],\n",
       "       [0.78389351, 0.21610649],\n",
       "       [0.24189884, 0.75810116],\n",
       "       [0.91433409, 0.08566591],\n",
       "       [0.23873518, 0.76126482],\n",
       "       [0.30128148, 0.69871852],\n",
       "       [0.70021725, 0.29978275],\n",
       "       [0.92190861, 0.07809139],\n",
       "       [0.64043197, 0.35956803],\n",
       "       [0.82393442, 0.17606558],\n",
       "       [0.51307458, 0.48692542],\n",
       "       [0.66189675, 0.33810325],\n",
       "       [0.45761738, 0.54238262],\n",
       "       [0.94461779, 0.05538221],\n",
       "       [0.92261164, 0.07738836],\n",
       "       [0.79868934, 0.20131066],\n",
       "       [0.71273478, 0.28726522],\n",
       "       [0.80241323, 0.19758677],\n",
       "       [0.85677414, 0.14322586],\n",
       "       [0.76064998, 0.23935002],\n",
       "       [0.8897757 , 0.1102243 ],\n",
       "       [0.5422137 , 0.4577863 ],\n",
       "       [0.97613759, 0.02386241],\n",
       "       [0.8267643 , 0.1732357 ],\n",
       "       [0.72091198, 0.27908802],\n",
       "       [0.32477708, 0.67522292],\n",
       "       [0.340954  , 0.659046  ],\n",
       "       [0.79952827, 0.20047173],\n",
       "       [0.84116542, 0.15883458],\n",
       "       [0.07685435, 0.92314565],\n",
       "       [0.28895474, 0.71104526],\n",
       "       [0.14155457, 0.85844543],\n",
       "       [0.76997315, 0.23002685],\n",
       "       [0.60477606, 0.39522394],\n",
       "       [0.98601488, 0.01398512],\n",
       "       [0.8718002 , 0.1281998 ],\n",
       "       [0.81819962, 0.18180038],\n",
       "       [0.39253586, 0.60746414],\n",
       "       [0.54287815, 0.45712185],\n",
       "       [0.82691124, 0.17308876],\n",
       "       [0.58538092, 0.41461908],\n",
       "       [0.77090317, 0.22909683],\n",
       "       [0.8118579 , 0.1881421 ],\n",
       "       [0.56984105, 0.43015895],\n",
       "       [0.24407758, 0.75592242],\n",
       "       [0.81337474, 0.18662526],\n",
       "       [0.48517887, 0.51482113],\n",
       "       [0.7351842 , 0.2648158 ],\n",
       "       [0.3272787 , 0.6727213 ],\n",
       "       [0.71737531, 0.28262469],\n",
       "       [0.86301403, 0.13698597],\n",
       "       [0.49095074, 0.50904926],\n",
       "       [0.96178024, 0.03821976],\n",
       "       [0.9817389 , 0.0182611 ],\n",
       "       [0.8921273 , 0.1078727 ],\n",
       "       [0.94645626, 0.05354374],\n",
       "       [0.88719807, 0.11280193],\n",
       "       [0.93224743, 0.06775257],\n",
       "       [0.21415669, 0.78584331],\n",
       "       [0.88043069, 0.11956931],\n",
       "       [0.26611189, 0.73388811],\n",
       "       [0.19855249, 0.80144751],\n",
       "       [0.82837384, 0.17162616],\n",
       "       [0.31847929, 0.68152071],\n",
       "       [0.96923169, 0.03076831],\n",
       "       [0.70201396, 0.29798604],\n",
       "       [0.95113347, 0.04886653],\n",
       "       [0.37321582, 0.62678418],\n",
       "       [0.91966008, 0.08033992],\n",
       "       [0.91359627, 0.08640373],\n",
       "       [0.79260988, 0.20739012],\n",
       "       [0.7661951 , 0.2338049 ],\n",
       "       [0.67632823, 0.32367177],\n",
       "       [0.16415179, 0.83584821],\n",
       "       [0.66819613, 0.33180387],\n",
       "       [0.75553148, 0.24446852],\n",
       "       [0.06525127, 0.93474873],\n",
       "       [0.61142844, 0.38857156],\n",
       "       [0.66461138, 0.33538862],\n",
       "       [0.32750728, 0.67249272],\n",
       "       [0.98153076, 0.01846924],\n",
       "       [0.94593125, 0.05406875],\n",
       "       [0.822203  , 0.177797  ],\n",
       "       [0.54584455, 0.45415545],\n",
       "       [0.51733332, 0.48266668],\n",
       "       [0.72486489, 0.27513511],\n",
       "       [0.74658733, 0.25341267],\n",
       "       [0.94331986, 0.05668014],\n",
       "       [0.62557622, 0.37442378],\n",
       "       [0.79744164, 0.20255836],\n",
       "       [0.98540116, 0.01459884],\n",
       "       [0.03146011, 0.96853989],\n",
       "       [0.91352436, 0.08647564],\n",
       "       [0.75704884, 0.24295116],\n",
       "       [0.81007892, 0.18992108],\n",
       "       [0.73448682, 0.26551318],\n",
       "       [0.89347884, 0.10652116],\n",
       "       [0.53350798, 0.46649202],\n",
       "       [0.71595961, 0.28404039],\n",
       "       [0.12014299, 0.87985701],\n",
       "       [0.43343448, 0.56656552],\n",
       "       [0.70414485, 0.29585515],\n",
       "       [0.87042545, 0.12957455],\n",
       "       [0.73139543, 0.26860457],\n",
       "       [0.27064061, 0.72935939],\n",
       "       [0.2099002 , 0.7900998 ],\n",
       "       [0.29749777, 0.70250223],\n",
       "       [0.13872212, 0.86127788],\n",
       "       [0.63352026, 0.36647974],\n",
       "       [0.75750169, 0.24249831],\n",
       "       [0.77008582, 0.22991418],\n",
       "       [0.03907048, 0.96092952],\n",
       "       [0.87312914, 0.12687086],\n",
       "       [0.95590927, 0.04409073],\n",
       "       [0.8832401 , 0.1167599 ],\n",
       "       [0.91079388, 0.08920612],\n",
       "       [0.74371357, 0.25628643],\n",
       "       [0.65904535, 0.34095465],\n",
       "       [0.25269269, 0.74730731]])"
      ]
     },
     "execution_count": 20,
     "metadata": {},
     "output_type": "execute_result"
    }
   ],
   "source": [
    "loss"
   ]
  },
  {
   "cell_type": "code",
   "execution_count": 22,
   "id": "e1b140e4",
   "metadata": {},
   "outputs": [
    {
     "ename": "AttributeError",
     "evalue": "'LogisticRegression' object has no attribute 'rsquared_adj'",
     "output_type": "error",
     "traceback": [
      "\u001b[1;31m---------------------------------------------------------------------------\u001b[0m",
      "\u001b[1;31mAttributeError\u001b[0m                            Traceback (most recent call last)",
      "\u001b[1;32m~\\AppData\\Local\\Temp/ipykernel_21684/2420255355.py\u001b[0m in \u001b[0;36m<module>\u001b[1;34m\u001b[0m\n\u001b[1;32m----> 1\u001b[1;33m \u001b[0mprint\u001b[0m\u001b[1;33m(\u001b[0m\u001b[0mmodel\u001b[0m\u001b[1;33m.\u001b[0m\u001b[0mrsquared_adj\u001b[0m\u001b[1;33m)\u001b[0m\u001b[1;33m\u001b[0m\u001b[1;33m\u001b[0m\u001b[0m\n\u001b[0m",
      "\u001b[1;31mAttributeError\u001b[0m: 'LogisticRegression' object has no attribute 'rsquared_adj'"
     ]
    }
   ],
   "source": [
    "print(model.rsquared_adj)"
   ]
  },
  {
   "cell_type": "code",
   "execution_count": null,
   "id": "9faa14e5",
   "metadata": {},
   "outputs": [],
   "source": []
  }
 ],
 "metadata": {
  "kernelspec": {
   "display_name": "Python 3 (ipykernel)",
   "language": "python",
   "name": "python3"
  },
  "language_info": {
   "codemirror_mode": {
    "name": "ipython",
    "version": 3
   },
   "file_extension": ".py",
   "mimetype": "text/x-python",
   "name": "python",
   "nbconvert_exporter": "python",
   "pygments_lexer": "ipython3",
   "version": "3.9.7"
  }
 },
 "nbformat": 4,
 "nbformat_minor": 5
}
